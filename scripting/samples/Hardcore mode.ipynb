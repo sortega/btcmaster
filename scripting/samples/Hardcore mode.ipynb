{
 "cells": [
  {
   "cell_type": "markdown",
   "metadata": {},
   "source": [
    "We can use `python-bitcoinlib` to do a lot in the bitcoin space."
   ]
  },
  {
   "cell_type": "code",
   "execution_count": 119,
   "metadata": {},
   "outputs": [],
   "source": [
    "#!pip install python-bitcoinlib"
   ]
  },
  {
   "cell_type": "code",
   "execution_count": 128,
   "metadata": {
    "collapsed": true
   },
   "outputs": [],
   "source": [
    "import bitcoin\n",
    "from bitcoin.rpc import Proxy\n",
    "from bitcoin.core import b2lx, b2x"
   ]
  },
  {
   "cell_type": "code",
   "execution_count": 129,
   "metadata": {
    "collapsed": true
   },
   "outputs": [],
   "source": [
    "bitcoin.SelectParams('regtest')\n",
    "bt = Proxy(btc_conf_file=\"/Users/sebastian.ortega/Sync/Main/btcmaster/devnode/testnet/bitcoin.conf\")"
   ]
  },
  {
   "cell_type": "markdown",
   "metadata": {},
   "source": [
    "We can access the same information as with `bitcoin-cli`."
   ]
  },
  {
   "cell_type": "code",
   "execution_count": 130,
   "metadata": {},
   "outputs": [
    {
     "data": {
      "text/plain": [
       "{'balance': 9999982660,\n",
       " 'blocks': 102,\n",
       " 'connections': 1,\n",
       " 'difficulty': Decimal('4.656542373906925E-10'),\n",
       " 'errors': '',\n",
       " 'keypoololdest': 1509012464,\n",
       " 'keypoolsize': 100,\n",
       " 'paytxfee': 0,\n",
       " 'protocolversion': 70015,\n",
       " 'proxy': '',\n",
       " 'relayfee': Decimal('0.00001000'),\n",
       " 'testnet': False,\n",
       " 'timeoffset': 0,\n",
       " 'version': 130200,\n",
       " 'walletversion': 130000}"
      ]
     },
     "execution_count": 130,
     "metadata": {},
     "output_type": "execute_result"
    }
   ],
   "source": [
    "bt.getinfo()"
   ]
  },
  {
   "cell_type": "code",
   "execution_count": 11,
   "metadata": {},
   "outputs": [
    {
     "data": {
      "text/plain": [
       "{'blocks': 101,\n",
       " 'chain': 'regtest',\n",
       " 'currentblocksize': 1000,\n",
       " 'currentblocktx': 0,\n",
       " 'currentblockweight': 4000,\n",
       " 'difficulty': Decimal('4.656542373906925E-10'),\n",
       " 'errors': '',\n",
       " 'networkhashps': Decimal('9.513765660635558E-7'),\n",
       " 'pooledtx': 0,\n",
       " 'testnet': False}"
      ]
     },
     "execution_count": 11,
     "metadata": {},
     "output_type": "execute_result"
    }
   ],
   "source": [
    "bt.getmininginfo()"
   ]
  },
  {
   "cell_type": "markdown",
   "metadata": {},
   "source": [
    "This client parses the whole messages and is able to anything with the data. Bad news: more subtle details to watch for."
   ]
  },
  {
   "cell_type": "code",
   "execution_count": 123,
   "metadata": {},
   "outputs": [
    {
     "data": {
      "text/plain": [
       "102"
      ]
     },
     "execution_count": 123,
     "metadata": {},
     "output_type": "execute_result"
    }
   ],
   "source": [
    "num_blocks = bt.getinfo()['blocks']\n",
    "num_blocks"
   ]
  },
  {
   "cell_type": "code",
   "execution_count": 124,
   "metadata": {},
   "outputs": [
    {
     "data": {
      "text/plain": [
       "34"
      ]
     },
     "execution_count": 124,
     "metadata": {},
     "output_type": "execute_result"
    }
   ],
   "source": [
    "height = int(num_blocks / 3)\n",
    "height"
   ]
  },
  {
   "cell_type": "code",
   "execution_count": 125,
   "metadata": {},
   "outputs": [
    {
     "data": {
      "text/plain": [
       "b'\\x85 ,x\\xb8\\x80\\xf4\\x9b\\x19\\xaf>\\x9c\\xb6\\xa0r\\xbf\\xb1)<u2w\\xdaG\\x161+H\\xfdJ9m'"
      ]
     },
     "execution_count": 125,
     "metadata": {},
     "output_type": "execute_result"
    }
   ],
   "source": [
    "block_id = bt.getblockhash(height)\n",
    "block_id"
   ]
  },
  {
   "cell_type": "markdown",
   "metadata": {
    "collapsed": true
   },
   "source": [
    "Note that the block is is **binary data**. In this case in little-endian format."
   ]
  },
  {
   "cell_type": "code",
   "execution_count": 126,
   "metadata": {},
   "outputs": [
    {
     "name": "stdout",
     "output_type": "stream",
     "text": [
      "Help on function b2lx in module bitcoin.core:\n",
      "\n",
      "b2lx(b)\n",
      "    Convert bytes to a little-endian hex string\n",
      "    \n",
      "    Lets you show uint256's and uint160's the way the Satoshi codebase shows\n",
      "    them.\n",
      "\n"
     ]
    },
    {
     "data": {
      "text/plain": [
       "'6d394afd482b311647da7732753c29b1bf72a0b69c3eaf199bf480b8782c2085'"
      ]
     },
     "execution_count": 126,
     "metadata": {},
     "output_type": "execute_result"
    }
   ],
   "source": [
    "help(b2lx)\n",
    "b2lx(block_id)"
   ]
  },
  {
   "cell_type": "code",
   "execution_count": 28,
   "metadata": {},
   "outputs": [
    {
     "data": {
      "text/plain": [
       "CBlock(536870912, lx(11cb98c6a31c22b17228746097975b9690df17d4117a1e6e9cb1131d71acaf28), lx(c1ac66d88f6d8a68ae0685ca7225476468072ef21c8513126ae1417e7e96cc57), 1509012509, 0x207fffff, 0x00000001)"
      ]
     },
     "execution_count": 28,
     "metadata": {},
     "output_type": "execute_result"
    }
   ],
   "source": [
    "block = bt.getblock(block_id)\n",
    "block"
   ]
  },
  {
   "cell_type": "code",
   "execution_count": 33,
   "metadata": {},
   "outputs": [
    {
     "data": {
      "text/plain": [
       "1"
      ]
     },
     "execution_count": 33,
     "metadata": {},
     "output_type": "execute_result"
    }
   ],
   "source": [
    "len(block.vtx)"
   ]
  },
  {
   "cell_type": "code",
   "execution_count": 35,
   "metadata": {},
   "outputs": [
    {
     "data": {
      "text/plain": [
       "CTransaction((CTxIn(COutPoint(), CScript([x('21'), x('01')]), 0xffffffff),), (CTxOut(50.0*COIN, CScript([x('0348e1deaf69d7570a5ea7e762b8cbe8668f47b32b15dfda1420834744a15301b6'), OP_CHECKSIG])), CTxOut(0.0*COIN, CScript([OP_RETURN, x('aa21a9ede2f61c3f71d1defd3fa999dfa36953755c690689799962b48bebd836974e8cf9')]))), 0, 1)"
      ]
     },
     "execution_count": 35,
     "metadata": {},
     "output_type": "execute_result"
    }
   ],
   "source": [
    "tx = block.vtx[0]\n",
    "tx"
   ]
  },
  {
   "cell_type": "code",
   "execution_count": 40,
   "metadata": {},
   "outputs": [
    {
     "data": {
      "text/plain": [
       "'c1ac66d88f6d8a68ae0685ca7225476468072ef21c8513126ae1417e7e96cc57'"
      ]
     },
     "execution_count": 40,
     "metadata": {},
     "output_type": "execute_result"
    }
   ],
   "source": [
    "b2lx(tx.GetTxid()) # Also in little endian"
   ]
  },
  {
   "cell_type": "code",
   "execution_count": 47,
   "metadata": {},
   "outputs": [],
   "source": [
    "output = tx.vout[0]"
   ]
  },
  {
   "cell_type": "code",
   "execution_count": 50,
   "metadata": {},
   "outputs": [
    {
     "data": {
      "text/plain": [
       "5000000000"
      ]
     },
     "execution_count": 50,
     "metadata": {},
     "output_type": "execute_result"
    }
   ],
   "source": [
    "output.nValue"
   ]
  },
  {
   "cell_type": "code",
   "execution_count": 63,
   "metadata": {
    "scrolled": false
   },
   "outputs": [
    {
     "data": {
      "text/plain": [
       "[b'\\x03H\\xe1\\xde\\xafi\\xd7W\\n^\\xa7\\xe7b\\xb8\\xcb\\xe8f\\x8fG\\xb3+\\x15\\xdf\\xda\\x14 \\x83GD\\xa1S\\x01\\xb6',\n",
       " OP_CHECKSIG]"
      ]
     },
     "execution_count": 63,
     "metadata": {},
     "output_type": "execute_result"
    }
   ],
   "source": [
    "list(output.scriptPubKey)"
   ]
  },
  {
   "cell_type": "markdown",
   "metadata": {},
   "source": [
    "# Accessing the wallet"
   ]
  },
  {
   "cell_type": "code",
   "execution_count": 106,
   "metadata": {},
   "outputs": [
    {
     "data": {
      "text/plain": [
       "P2PKHBitcoinAddress('myoTRSmiZZpNdvfoPqg3B9YgZd4YLGnzT9')"
      ]
     },
     "execution_count": 106,
     "metadata": {},
     "output_type": "execute_result"
    }
   ],
   "source": [
    "address = bt.getnewaddress()\n",
    "address"
   ]
  },
  {
   "cell_type": "code",
   "execution_count": 107,
   "metadata": {},
   "outputs": [
    {
     "data": {
      "text/plain": [
       "5000000000"
      ]
     },
     "execution_count": 107,
     "metadata": {},
     "output_type": "execute_result"
    }
   ],
   "source": [
    "bt.getbalance()"
   ]
  },
  {
   "cell_type": "markdown",
   "metadata": {},
   "source": [
    "Let's send some funds to this new address."
   ]
  },
  {
   "cell_type": "code",
   "execution_count": 116,
   "metadata": {},
   "outputs": [],
   "source": [
    "tx = bt.sendtoaddress(addr=address, amount=100000, comment=\"meh\")"
   ]
  },
  {
   "cell_type": "code",
   "execution_count": 117,
   "metadata": {},
   "outputs": [
    {
     "data": {
      "text/plain": [
       "'bba9ebcc163d21acb4c465a70ef445ed50f705aea83e764dbf190a7ac2f0d786'"
      ]
     },
     "execution_count": 117,
     "metadata": {},
     "output_type": "execute_result"
    }
   ],
   "source": [
    "b2lx(tx)"
   ]
  },
  {
   "cell_type": "code",
   "execution_count": 132,
   "metadata": {},
   "outputs": [
    {
     "data": {
      "text/plain": [
       "{'amount': Decimal('0E-8'),\n",
       " 'bip125-replaceable': 'no',\n",
       " 'comment': 'meh',\n",
       " 'confirmations': 0,\n",
       " 'details': [{'abandoned': False,\n",
       "   'account': '',\n",
       "   'address': 'myoTRSmiZZpNdvfoPqg3B9YgZd4YLGnzT9',\n",
       "   'amount': Decimal('-0.00100000'),\n",
       "   'category': 'send',\n",
       "   'fee': Decimal('-0.00004520'),\n",
       "   'label': '',\n",
       "   'vout': 1},\n",
       "  {'account': '',\n",
       "   'address': 'myoTRSmiZZpNdvfoPqg3B9YgZd4YLGnzT9',\n",
       "   'amount': Decimal('0.00100000'),\n",
       "   'category': 'receive',\n",
       "   'label': '',\n",
       "   'vout': 1}],\n",
       " 'fee': Decimal('-0.00004520'),\n",
       " 'hex': '0100000001e41dec26a5135d3d044ff5531b1ddb773608e7a6583a07f7e1d67dde069b992a010000006b483045022100f17a957d784ef7fafc75bbc5535bd5224f8b6ec27065164ee90507d2c188a4be0220223c7385b5b7843c3d9b176bab9c2a4fdcb73d6b6e11a2d3374756757bb1b6c30121028073e16f74115c4543034f9ccab8910eede36b92af0609996fbba7cabc23101efeffffff02c493ff29010000001976a914c09c520f8174324177cdaffb7aef543bdd076e2588aca0860100000000001976a914c8913bddd04cbde41bd38eb9f51b1955c8e0832488ac66000000',\n",
       " 'time': 1509026726,\n",
       " 'timereceived': 1509026726,\n",
       " 'trusted': True,\n",
       " 'txid': 'bba9ebcc163d21acb4c465a70ef445ed50f705aea83e764dbf190a7ac2f0d786',\n",
       " 'walletconflicts': []}"
      ]
     },
     "execution_count": 132,
     "metadata": {},
     "output_type": "execute_result"
    }
   ],
   "source": [
    "bt.gettransaction(tx)"
   ]
  },
  {
   "cell_type": "code",
   "execution_count": 131,
   "metadata": {},
   "outputs": [
    {
     "name": "stdout",
     "output_type": "stream",
     "text": [
      "Help on method sendrawtransaction in module bitcoin.rpc:\n",
      "\n",
      "sendrawtransaction(tx, allowhighfees=False) method of bitcoin.rpc.Proxy instance\n",
      "    Submit transaction to local node and network.\n",
      "    \n",
      "    allowhighfees - Allow even if fees are unreasonably high.\n",
      "\n"
     ]
    }
   ],
   "source": [
    "help(bt.sendrawtransaction)"
   ]
  },
  {
   "cell_type": "markdown",
   "metadata": {},
   "source": [
    "# Creating transactions"
   ]
  },
  {
   "cell_type": "code",
   "execution_count": 133,
   "metadata": {},
   "outputs": [
    {
     "name": "stdout",
     "output_type": "stream",
     "text": [
      "Help on method fundrawtransaction in module bitcoin.rpc:\n",
      "\n",
      "fundrawtransaction(tx, include_watching=False) method of bitcoin.rpc.Proxy instance\n",
      "    Add inputs to a transaction until it has enough in value to meet its out value.\n",
      "    \n",
      "    include_watching - Also select inputs which are watch only\n",
      "    \n",
      "    Returns dict:\n",
      "    \n",
      "    {'tx':        Resulting tx,\n",
      "     'fee':       Fee the resulting transaction pays,\n",
      "     'changepos': Position of added change output, or -1,\n",
      "    }\n",
      "\n"
     ]
    }
   ],
   "source": [
    "help(bt.fundrawtransaction)"
   ]
  },
  {
   "cell_type": "code",
   "execution_count": null,
   "metadata": {
    "collapsed": true
   },
   "outputs": [],
   "source": [
    "# sendrawtransaction, signrawtransaction"
   ]
  }
 ],
 "metadata": {
  "kernelspec": {
   "display_name": "Python 3",
   "language": "python",
   "name": "python3"
  },
  "language_info": {
   "codemirror_mode": {
    "name": "ipython",
    "version": 3
   },
   "file_extension": ".py",
   "mimetype": "text/x-python",
   "name": "python",
   "nbconvert_exporter": "python",
   "pygments_lexer": "ipython3",
   "version": "3.6.1"
  }
 },
 "nbformat": 4,
 "nbformat_minor": 2
}
