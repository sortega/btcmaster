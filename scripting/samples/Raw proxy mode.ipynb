{
 "cells": [
  {
   "cell_type": "markdown",
   "metadata": {},
   "source": [
    "We can use `python-bitcoinlib` to do a lot in the bitcoin space."
   ]
  },
  {
   "cell_type": "code",
   "execution_count": 7,
   "metadata": {},
   "outputs": [
    {
     "name": "stdout",
     "output_type": "stream",
     "text": [
      "Collecting python-bitcoinlib\n",
      "  Using cached python_bitcoinlib-0.8.0-py2.py3-none-any.whl\n",
      "Installing collected packages: python-bitcoinlib\n",
      "Successfully installed python-bitcoinlib-0.8.0\n"
     ]
    }
   ],
   "source": [
    "#!pip install python-bitcoinlib"
   ]
  },
  {
   "cell_type": "code",
   "execution_count": 42,
   "metadata": {},
   "outputs": [],
   "source": [
    "from bitcoin.rpc import RawProxy"
   ]
  },
  {
   "cell_type": "code",
   "execution_count": 50,
   "metadata": {
    "collapsed": true
   },
   "outputs": [],
   "source": [
    "bt = RawProxy(btc_conf_file=\"/Users/sebastian.ortega/Sync/Main/btcmaster/devnode/testnet/bitcoin.conf\")"
   ]
  },
  {
   "cell_type": "markdown",
   "metadata": {},
   "source": [
    "We can access the same information as with `bitcoin-cli`."
   ]
  },
  {
   "cell_type": "code",
   "execution_count": 51,
   "metadata": {},
   "outputs": [
    {
     "data": {
      "text/plain": [
       "{'balance': Decimal('99.99982660'),\n",
       " 'blocks': 102,\n",
       " 'connections': 1,\n",
       " 'difficulty': Decimal('4.656542373906925E-10'),\n",
       " 'errors': '',\n",
       " 'keypoololdest': 1509012464,\n",
       " 'keypoolsize': 100,\n",
       " 'paytxfee': Decimal('0E-8'),\n",
       " 'protocolversion': 70015,\n",
       " 'proxy': '',\n",
       " 'relayfee': Decimal('0.00001000'),\n",
       " 'testnet': False,\n",
       " 'timeoffset': 0,\n",
       " 'version': 130200,\n",
       " 'walletversion': 130000}"
      ]
     },
     "execution_count": 51,
     "metadata": {},
     "output_type": "execute_result"
    }
   ],
   "source": [
    "bt.getinfo()"
   ]
  },
  {
   "cell_type": "code",
   "execution_count": 46,
   "metadata": {},
   "outputs": [
    {
     "data": {
      "text/plain": [
       "{'connections': 1,\n",
       " 'localaddresses': [],\n",
       " 'localrelay': True,\n",
       " 'localservices': '000000000000000d',\n",
       " 'networks': [{'limited': False,\n",
       "   'name': 'ipv4',\n",
       "   'proxy': '',\n",
       "   'proxy_randomize_credentials': False,\n",
       "   'reachable': True},\n",
       "  {'limited': False,\n",
       "   'name': 'ipv6',\n",
       "   'proxy': '',\n",
       "   'proxy_randomize_credentials': False,\n",
       "   'reachable': True},\n",
       "  {'limited': True,\n",
       "   'name': 'onion',\n",
       "   'proxy': '',\n",
       "   'proxy_randomize_credentials': False,\n",
       "   'reachable': False}],\n",
       " 'protocolversion': 70015,\n",
       " 'relayfee': Decimal('0.00001000'),\n",
       " 'subversion': '/Satoshi:0.13.2/',\n",
       " 'timeoffset': 0,\n",
       " 'version': 130200,\n",
       " 'warnings': ''}"
      ]
     },
     "execution_count": 46,
     "metadata": {},
     "output_type": "execute_result"
    }
   ],
   "source": [
    "bt.getnetworkinfo()"
   ]
  },
  {
   "cell_type": "code",
   "execution_count": 47,
   "metadata": {
    "collapsed": true
   },
   "outputs": [],
   "source": [
    "height = 33"
   ]
  },
  {
   "cell_type": "markdown",
   "metadata": {},
   "source": [
    "For good or for bad is just a thin wrapper around the REST API of `bitcoind`."
   ]
  },
  {
   "cell_type": "code",
   "execution_count": 49,
   "metadata": {},
   "outputs": [
    {
     "name": "stdout",
     "output_type": "stream",
     "text": [
      "7849b2d1c30914c8f70450e819e2bfe3911dd942857d455a327ad7b2b06ddeb4\n"
     ]
    },
    {
     "data": {
      "text/plain": [
       "{'bits': '207fffff',\n",
       " 'chainwork': '0000000000000000000000000000000000000000000000000000000000000044',\n",
       " 'confirmations': 69,\n",
       " 'difficulty': Decimal('4.656542373906925E-10'),\n",
       " 'hash': '7849b2d1c30914c8f70450e819e2bfe3911dd942857d455a327ad7b2b06ddeb4',\n",
       " 'height': 33,\n",
       " 'mediantime': 1509012508,\n",
       " 'merkleroot': 'c1ac66d88f6d8a68ae0685ca7225476468072ef21c8513126ae1417e7e96cc57',\n",
       " 'nextblockhash': '6d394afd482b311647da7732753c29b1bf72a0b69c3eaf199bf480b8782c2085',\n",
       " 'nonce': 1,\n",
       " 'previousblockhash': '11cb98c6a31c22b17228746097975b9690df17d4117a1e6e9cb1131d71acaf28',\n",
       " 'size': 227,\n",
       " 'strippedsize': 227,\n",
       " 'time': 1509012509,\n",
       " 'tx': ['c1ac66d88f6d8a68ae0685ca7225476468072ef21c8513126ae1417e7e96cc57'],\n",
       " 'version': 536870912,\n",
       " 'versionHex': '20000000',\n",
       " 'weight': 908}"
      ]
     },
     "execution_count": 49,
     "metadata": {},
     "output_type": "execute_result"
    }
   ],
   "source": [
    "block_hash = bt.getblockhash(height)\n",
    "print(block_hash)\n",
    "block = bt.getblock(block_hash)\n",
    "block"
   ]
  },
  {
   "cell_type": "code",
   "execution_count": 39,
   "metadata": {},
   "outputs": [
    {
     "data": {
      "text/plain": [
       "'01000000010000000000000000000000000000000000000000000000000000000000000000ffffffff035a0101ffffffff0200f2052a0100000023210348e1deaf69d7570a5ea7e762b8cbe8668f47b32b15dfda1420834744a15301b6ac0000000000000000266a24aa21a9ede2f61c3f71d1defd3fa999dfa36953755c690689799962b48bebd836974e8cf900000000'"
      ]
     },
     "execution_count": 39,
     "metadata": {},
     "output_type": "execute_result"
    }
   ],
   "source": [
    "bt.getrawtransaction(block['tx'][0])"
   ]
  },
  {
   "cell_type": "code",
   "execution_count": 40,
   "metadata": {},
   "outputs": [
    {
     "data": {
      "text/plain": [
       "{'blockhash': '34bbc6f7443844166cfc500f1c9ca757e4eb4f5a2fd7f1511265b5b5ae37bb94',\n",
       " 'blocktime': 1509012505,\n",
       " 'confirmations': 92,\n",
       " 'hash': '9760ba2a36eecbe6f857fd187bd7a539166b287e599aba86d27d647ccca784be',\n",
       " 'hex': '01000000010000000000000000000000000000000000000000000000000000000000000000ffffffff035a0101ffffffff0200f2052a0100000023210348e1deaf69d7570a5ea7e762b8cbe8668f47b32b15dfda1420834744a15301b6ac0000000000000000266a24aa21a9ede2f61c3f71d1defd3fa999dfa36953755c690689799962b48bebd836974e8cf900000000',\n",
       " 'locktime': 0,\n",
       " 'size': 145,\n",
       " 'time': 1509012505,\n",
       " 'txid': '9760ba2a36eecbe6f857fd187bd7a539166b287e599aba86d27d647ccca784be',\n",
       " 'version': 1,\n",
       " 'vin': [{'coinbase': '5a0101', 'sequence': 4294967295}],\n",
       " 'vout': [{'n': 0,\n",
       "   'scriptPubKey': {'addresses': ['mhyNkwf1MLMNU6d9n1rrSzzP6d7PTn8sxY'],\n",
       "    'asm': '0348e1deaf69d7570a5ea7e762b8cbe8668f47b32b15dfda1420834744a15301b6 OP_CHECKSIG',\n",
       "    'hex': '210348e1deaf69d7570a5ea7e762b8cbe8668f47b32b15dfda1420834744a15301b6ac',\n",
       "    'reqSigs': 1,\n",
       "    'type': 'pubkey'},\n",
       "   'value': Decimal('50.00000000')},\n",
       "  {'n': 1,\n",
       "   'scriptPubKey': {'asm': 'OP_RETURN aa21a9ede2f61c3f71d1defd3fa999dfa36953755c690689799962b48bebd836974e8cf9',\n",
       "    'hex': '6a24aa21a9ede2f61c3f71d1defd3fa999dfa36953755c690689799962b48bebd836974e8cf9',\n",
       "    'type': 'nulldata'},\n",
       "   'value': Decimal('0E-8')}],\n",
       " 'vsize': 145}"
      ]
     },
     "execution_count": 40,
     "metadata": {},
     "output_type": "execute_result"
    }
   ],
   "source": [
    "bt.getrawtransaction(block['tx'][0], 1)"
   ]
  },
  {
   "cell_type": "code",
   "execution_count": null,
   "metadata": {
    "collapsed": true
   },
   "outputs": [],
   "source": []
  }
 ],
 "metadata": {
  "kernelspec": {
   "display_name": "Python 3",
   "language": "python",
   "name": "python3"
  },
  "language_info": {
   "codemirror_mode": {
    "name": "ipython",
    "version": 3
   },
   "file_extension": ".py",
   "mimetype": "text/x-python",
   "name": "python",
   "nbconvert_exporter": "python",
   "pygments_lexer": "ipython3",
   "version": "3.6.1"
  }
 },
 "nbformat": 4,
 "nbformat_minor": 2
}
